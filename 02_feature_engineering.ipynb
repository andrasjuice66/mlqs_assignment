{
 "cells": [
  {
   "cell_type": "code",
   "execution_count": 1,
   "metadata": {
    "execution": {
     "iopub.execute_input": "2024-06-11T10:52:21.869499Z",
     "iopub.status.busy": "2024-06-11T10:52:21.869025Z",
     "iopub.status.idle": "2024-06-11T10:52:22.348226Z",
     "shell.execute_reply": "2024-06-11T10:52:22.347741Z"
    }
   },
   "outputs": [],
   "source": [
    "import pandas as pd"
   ]
  }
 ],
 "metadata": {
  "kernelspec": {
   "display_name": "env",
   "language": "python",
   "name": "python3"
  },
  "language_info": {
   "codemirror_mode": {
    "name": "ipython",
    "version": 3
   },
   "file_extension": ".py",
   "mimetype": "text/x-python",
   "name": "python",
   "nbconvert_exporter": "python",
   "pygments_lexer": "ipython3",
   "version": "3.9.7"
  },
  "vscode": {
   "interpreter": {
    "hash": "8c7853a7f6380c5c652c4ecade97f8ac7cc0e9eab34a6ddd88c01f0f43192157"
   }
  }
 },
 "nbformat": 4,
 "nbformat_minor": 2
}
